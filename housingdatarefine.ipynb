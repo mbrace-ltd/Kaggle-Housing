{
 "cells": [
  {
   "cell_type": "code",
   "execution_count": 1,
   "id": "4b5407dc",
   "metadata": {
    "_cell_guid": "b1076dfc-b9ad-4769-8c92-a6c4dae69d19",
    "_uuid": "8f2839f25d086af736a60e9eeb907d3b93b6e0e5",
    "execution": {
     "iopub.execute_input": "2022-02-04T16:46:16.778045Z",
     "iopub.status.busy": "2022-02-04T16:46:16.776908Z",
     "iopub.status.idle": "2022-02-04T16:46:24.245442Z",
     "shell.execute_reply": "2022-02-04T16:46:24.246004Z",
     "shell.execute_reply.started": "2022-02-04T15:26:17.054347Z"
    },
    "papermill": {
     "duration": 7.486827,
     "end_time": "2022-02-04T16:46:24.246462",
     "exception": false,
     "start_time": "2022-02-04T16:46:16.759635",
     "status": "completed"
    },
    "tags": []
   },
   "outputs": [],
   "source": [
    "import numpy as np \n",
    "import pandas as pd\n",
    "import seaborn as sns\n",
    "from sklearn.compose import make_column_transformer\n",
    "from sklearn.preprocessing import OrdinalEncoder\n",
    "from sklearn.preprocessing import MinMaxScaler, OneHotEncoder, LabelEncoder\n",
    "from sklearn.model_selection import train_test_split\n",
    "pd.options.mode.chained_assignment = None  # default='warn'\n",
    "import tensorflow as tf\n",
    "from tensorflow.keras import Sequential\n",
    "from tensorflow.keras.layers import Dense\n",
    "from tensorflow.keras.optimizers import Adam\n",
    "from tensorflow.keras import backend as K\n",
    "import os\n",
    "import matplotlib.pyplot as plt\n",
    "import sklearn"
   ]
  },
  {
   "cell_type": "code",
   "execution_count": 2,
   "id": "42460d90",
   "metadata": {
    "execution": {
     "iopub.execute_input": "2022-02-04T16:46:24.279241Z",
     "iopub.status.busy": "2022-02-04T16:46:24.278477Z",
     "iopub.status.idle": "2022-02-04T16:46:24.363616Z",
     "shell.execute_reply": "2022-02-04T16:46:24.364110Z",
     "shell.execute_reply.started": "2022-02-04T15:26:36.089481Z"
    },
    "papermill": {
     "duration": 0.103503,
     "end_time": "2022-02-04T16:46:24.364360",
     "exception": false,
     "start_time": "2022-02-04T16:46:24.260857",
     "status": "completed"
    },
    "tags": []
   },
   "outputs": [],
   "source": [
    "train_df = pd.read_csv(\"/kaggle/input/house-prices-advanced-regression-techniques/train.csv\", index_col=0)\n",
    "test_df = pd.read_csv(\"/kaggle/input/house-prices-advanced-regression-techniques/test.csv\", index_col=0)"
   ]
  },
  {
   "cell_type": "markdown",
   "id": "6e67c24d",
   "metadata": {
    "papermill": {
     "duration": 0.011354,
     "end_time": "2022-02-04T16:46:24.387381",
     "exception": false,
     "start_time": "2022-02-04T16:46:24.376027",
     "status": "completed"
    },
    "tags": []
   },
   "source": [
    "## Checking categorical variables\n",
    "\n",
    "### Nominal\n",
    "MSSubClass\n",
    "MSZoning\n",
    "Street\n",
    "Alley\n",
    "LotConfig\n",
    "Neighborhood\n",
    "Condition1\n",
    "Condition2\n",
    "BldgType\n",
    "HouseStyle\n",
    "RoofStyle\n",
    "RoofMatl\n",
    "Exteror1st\n",
    "Exteror2nd\n",
    "MasVnrType\n",
    "Foundation\n",
    "Heating\n",
    "CentralAIr\n",
    "Electrical\n",
    "Functional\n",
    "GarageType\n",
    "GarageFinish\n",
    "PavedDrive\n",
    "MiscFeature\n",
    "SaleType\n",
    "SaleCondition\n",
    "\n",
    "### Ordinal\n",
    "LotShape\n",
    "LandContour\n",
    "Utilities\n",
    "LandSlope\n",
    "ExterQual\n",
    "ExterCond\n",
    "BsmtQual\n",
    "BsmtCond\n",
    "BsmtExposure\n",
    "BsmtFinType2\n",
    "HeatingQC\n",
    "KitchenQual\n",
    "FireplaceQu\n",
    "GarageQual\n",
    "GarageCond\n",
    "PoolQC\n",
    "Fence"
   ]
  },
  {
   "cell_type": "code",
   "execution_count": 3,
   "id": "e36c8738",
   "metadata": {
    "execution": {
     "iopub.execute_input": "2022-02-04T16:46:24.419946Z",
     "iopub.status.busy": "2022-02-04T16:46:24.419245Z",
     "iopub.status.idle": "2022-02-04T16:46:24.694011Z",
     "shell.execute_reply": "2022-02-04T16:46:24.694523Z",
     "shell.execute_reply.started": "2022-02-04T15:26:36.161760Z"
    },
    "papermill": {
     "duration": 0.295847,
     "end_time": "2022-02-04T16:46:24.694795",
     "exception": false,
     "start_time": "2022-02-04T16:46:24.398948",
     "status": "completed"
    },
    "tags": []
   },
   "outputs": [
    {
     "name": "stderr",
     "output_type": "stream",
     "text": [
      "/opt/conda/lib/python3.7/site-packages/seaborn/_decorators.py:43: FutureWarning: Pass the following variables as keyword args: x, y. From version 0.12, the only valid positional argument will be `data`, and passing other arguments without an explicit keyword will result in an error or misinterpretation.\n",
      "  FutureWarning\n"
     ]
    },
    {
     "data": {
      "image/png": "[encoded data removed]",
      "text/plain": [
       "<Figure size 432x288 with 1 Axes>"
      ]
     },
     "metadata": {
      "needs_background": "light"
     },
     "output_type": "display_data"
    }
   ],
   "source": [
    "val_list = []\n",
    "from collections import Counter\n",
    "for col in train_df.columns:\n",
    "    val_list.append(len(train_df[col].unique()))\n",
    "    #print(f\"{col}: {len(train_df[col].unique())}\")\n",
    "ax = sns.scatterplot(val_list, range(0,len(val_list)))"
   ]
  },
  {
   "cell_type": "code",
   "execution_count": 4,
   "id": "ca088a4c",
   "metadata": {
    "execution": {
     "iopub.execute_input": "2022-02-04T16:46:24.732099Z",
     "iopub.status.busy": "2022-02-04T16:46:24.730918Z",
     "iopub.status.idle": "2022-02-04T16:46:24.733949Z",
     "shell.execute_reply": "2022-02-04T16:46:24.733456Z",
     "shell.execute_reply.started": "2022-02-04T15:26:36.376384Z"
    },
    "papermill": {
     "duration": 0.026227,
     "end_time": "2022-02-04T16:46:24.734106",
     "exception": false,
     "start_time": "2022-02-04T16:46:24.707879",
     "status": "completed"
    },
    "tags": []
   },
   "outputs": [],
   "source": [
    "NOMINAL_COL = [\"BsmtFinType1\",\"Foundation\",\"MSSubClass\",\n",
    "               \"MSZoning\",\n",
    "               \"Street\",\n",
    "               \"LotConfig\",\n",
    "               \"Neighborhood\",\n",
    "               \"Condition1\",\n",
    "               \"Condition2\",\n",
    "               \"BldgType\",\n",
    "               \"HouseStyle\",\n",
    "               \"RoofStyle\",\n",
    "               \"RoofMatl\",\n",
    "               \"Exterior1st\",\n",
    "               \"Exterior2nd\",\n",
    "               \"MasVnrType\" ,\n",
    "                \"Heating\",\n",
    "               \"CentralAir\",\n",
    "               \"Electrical\",\n",
    "               \"Functional\",\n",
    "               \"GarageType\",\n",
    "               \"GarageFinish\",\n",
    "               \"PavedDrive\",\n",
    "               \"SaleType\", \"SaleCondition\"]\n",
    "\n",
    "numerics = ['int16', 'int32', 'int64', 'float16', 'float32', 'float64']\n",
    "ORDINAL_COL = [\"LotShape\", \"LandContour\", \"Utilities\", \"LandSlope\", \"ExterQual\", \"ExterCond\", \"BsmtQual\", \"BsmtCond\", \"BsmtExposure\", \"BsmtFinType2\", \"HeatingQC\", \"KitchenQual\", \"GarageQual\", \"GarageCond\"]\n",
    "NUMERICAL_COL = train_df.select_dtypes(include=numerics).columns.to_list()"
   ]
  },
  {
   "cell_type": "code",
   "execution_count": 5,
   "id": "b484369b",
   "metadata": {
    "execution": {
     "iopub.execute_input": "2022-02-04T16:46:24.766880Z",
     "iopub.status.busy": "2022-02-04T16:46:24.765762Z",
     "iopub.status.idle": "2022-02-04T16:46:24.768645Z",
     "shell.execute_reply": "2022-02-04T16:46:24.767996Z",
     "shell.execute_reply.started": "2022-02-04T15:26:36.384956Z"
    },
    "papermill": {
     "duration": 0.021866,
     "end_time": "2022-02-04T16:46:24.768805",
     "exception": false,
     "start_time": "2022-02-04T16:46:24.746939",
     "status": "completed"
    },
    "tags": []
   },
   "outputs": [],
   "source": [
    "features = train_df.pop(\"SalePrice\")\n",
    "NUMERICAL_COL.remove(\"SalePrice\")"
   ]
  },
  {
   "cell_type": "code",
   "execution_count": 6,
   "id": "a9b62482",
   "metadata": {
    "execution": {
     "iopub.execute_input": "2022-02-04T16:46:24.801599Z",
     "iopub.status.busy": "2022-02-04T16:46:24.800828Z",
     "iopub.status.idle": "2022-02-04T16:46:24.810315Z",
     "shell.execute_reply": "2022-02-04T16:46:24.810889Z",
     "shell.execute_reply.started": "2022-02-04T15:26:36.401932Z"
    },
    "papermill": {
     "duration": 0.029536,
     "end_time": "2022-02-04T16:46:24.811091",
     "exception": false,
     "start_time": "2022-02-04T16:46:24.781555",
     "status": "completed"
    },
    "tags": []
   },
   "outputs": [],
   "source": [
    "train_df.drop([\"FireplaceQu\",\"Fence\",\"Alley\",\"MiscFeature\", \"PoolQC\"],axis=1, inplace = True)\n",
    "test_df.drop([\"FireplaceQu\",\"Fence\",\"Alley\",\"MiscFeature\", \"PoolQC\"],axis=1, inplace = True)"
   ]
  },
  {
   "cell_type": "code",
   "execution_count": 7,
   "id": "2cf29723",
   "metadata": {
    "execution": {
     "iopub.execute_input": "2022-02-04T16:46:24.840571Z",
     "iopub.status.busy": "2022-02-04T16:46:24.839834Z",
     "iopub.status.idle": "2022-02-04T16:46:25.014985Z",
     "shell.execute_reply": "2022-02-04T16:46:25.015532Z",
     "shell.execute_reply.started": "2022-02-04T15:26:36.417006Z"
    },
    "papermill": {
     "duration": 0.192117,
     "end_time": "2022-02-04T16:46:25.015755",
     "exception": false,
     "start_time": "2022-02-04T16:46:24.823638",
     "status": "completed"
    },
    "tags": []
   },
   "outputs": [
    {
     "name": "stdout",
     "output_type": "stream",
     "text": [
      "Electrical        1\n",
      "MasVnrType        6\n",
      "MasVnrArea        6\n",
      "BsmtFinType2     28\n",
      "BsmtQual         28\n",
      "BsmtCond         28\n",
      "BsmtExposure     28\n",
      "BsmtFinType1     28\n",
      "GarageYrBlt      64\n",
      "GarageQual       64\n",
      "GarageCond       64\n",
      "GarageType       64\n",
      "GarageFinish     64\n",
      "LotFrontage     217\n",
      "dtype: int64\n"
     ]
    }
   ],
   "source": [
    "X_train, X_test, y_train, y_test = train_test_split(\n",
    "    train_df, features, test_size=0.2, random_state=42\n",
    ")\n",
    "\n",
    "transformer = make_column_transformer(\n",
    "    (OneHotEncoder(handle_unknown='ignore'), \n",
    "        NOMINAL_COL),\n",
    "    (OrdinalEncoder(), ORDINAL_COL),\n",
    "    (MinMaxScaler(), \n",
    "        train_df.select_dtypes(include=numerics).columns)\n",
    ")\n",
    "print(X_train.isnull().sum().sort_values()[-14:])\n",
    "for col in NOMINAL_COL:\n",
    "    X_train[col].fillna(X_train[col].mode()[0],inplace=True)\n",
    "    test_df[col].fillna(test_df[col].mode()[0],inplace=True)\n",
    "    \n",
    "\n",
    "for col in NOMINAL_COL:\n",
    "    X_train[col].fillna(X_train[col].mode()[0],inplace=True)\n",
    "    test_df[col].fillna(test_df[col].mode()[0],inplace=True)\n",
    "    \n",
    "for col in NUMERICAL_COL:\n",
    "    X_train[col].fillna(X_train[col].mean(),inplace=True)\n",
    "    test_df[col].fillna(test_df[col].mean(),inplace=True)\n",
    "\n",
    "for col in [\"BsmtQual\",\"BsmtCond\",\"BsmtExposure\",\"BsmtFinType2\",\"GarageQual\",\"GarageCond\"]:\n",
    "    X_train[col] = X_train[col].fillna(X_train[col].mode()[0])\n",
    "    \n",
    "for col in [\"BsmtQual\",\"BsmtCond\",\"BsmtExposure\",\"BsmtFinType2\",\"GarageQual\",\"GarageCond\",\"KitchenQual\",\"Utilities\"]:\n",
    "    test_df[col] = test_df[col].fillna(test_df[col].mode()[0])\n",
    "    \n",
    "X_train_norm = transformer.fit_transform(X_train)\n",
    "test_df_norm = transformer.transform(test_df)\n"
   ]
  },
  {
   "cell_type": "code",
   "execution_count": 8,
   "id": "b8ddd214",
   "metadata": {
    "execution": {
     "iopub.execute_input": "2022-02-04T16:46:25.048233Z",
     "iopub.status.busy": "2022-02-04T16:46:25.047574Z",
     "iopub.status.idle": "2022-02-04T16:46:25.051750Z",
     "shell.execute_reply": "2022-02-04T16:46:25.050895Z",
     "shell.execute_reply.started": "2022-02-04T15:26:36.555787Z"
    },
    "papermill": {
     "duration": 0.023311,
     "end_time": "2022-02-04T16:46:25.051923",
     "exception": false,
     "start_time": "2022-02-04T16:46:25.028612",
     "status": "completed"
    },
    "tags": []
   },
   "outputs": [],
   "source": [
    "def rmse(y_true, y_pred):    \n",
    "    return K.sqrt(K.mean(K.square(y_pred - y_true)))"
   ]
  },
  {
   "cell_type": "code",
   "execution_count": 9,
   "id": "f8aa3fae",
   "metadata": {
    "execution": {
     "iopub.execute_input": "2022-02-04T16:46:25.082090Z",
     "iopub.status.busy": "2022-02-04T16:46:25.081432Z",
     "iopub.status.idle": "2022-02-04T16:46:25.085031Z",
     "shell.execute_reply": "2022-02-04T16:46:25.085534Z",
     "shell.execute_reply.started": "2022-02-04T15:26:36.561276Z"
    },
    "papermill": {
     "duration": 0.020734,
     "end_time": "2022-02-04T16:46:25.085763",
     "exception": false,
     "start_time": "2022-02-04T16:46:25.065029",
     "status": "completed"
    },
    "tags": []
   },
   "outputs": [],
   "source": [
    "y_train = y_train.astype(float)"
   ]
  },
  {
   "cell_type": "code",
   "execution_count": 10,
   "id": "d42436c8",
   "metadata": {
    "execution": {
     "iopub.execute_input": "2022-02-04T16:46:25.115484Z",
     "iopub.status.busy": "2022-02-04T16:46:25.114824Z",
     "iopub.status.idle": "2022-02-04T16:48:00.259112Z",
     "shell.execute_reply": "2022-02-04T16:48:00.259727Z",
     "shell.execute_reply.started": "2022-02-04T15:26:36.577483Z"
    },
    "papermill": {
     "duration": 95.160994,
     "end_time": "2022-02-04T16:48:00.259955",
     "exception": false,
     "start_time": "2022-02-04T16:46:25.098961",
     "status": "completed"
    },
    "tags": []
   },
   "outputs": [
    {
     "name": "stderr",
     "output_type": "stream",
     "text": [
      "\n",
      "User settings:\n",
      "\n",
      "   KMP_AFFINITY=granularity=fine,noverbose,compact,1,0\n",
      "   KMP_BLOCKTIME=0\n",
      "   KMP_DUPLICATE_LIB_OK=True\n",
      "   KMP_INIT_AT_FORK=FALSE\n",
      "   KMP_SETTINGS=1\n",
      "   KMP_WARNINGS=0\n",
      "\n",
      "Effective settings:\n",
      "\n",
      "   KMP_ABORT_DELAY=0\n",
      "   KMP_ADAPTIVE_LOCK_PROPS='1,1024'\n",
      "   KMP_ALIGN_ALLOC=64\n",
      "   KMP_ALL_THREADPRIVATE=128\n",
      "   KMP_ATOMIC_MODE=2\n",
      "   KMP_BLOCKTIME=0\n",
      "   KMP_CPUINFO_FILE: value is not defined\n",
      "   KMP_DETERMINISTIC_REDUCTION=false\n",
      "   KMP_DEVICE_THREAD_LIMIT=2147483647\n",
      "   KMP_DISP_NUM_BUFFERS=7\n",
      "   KMP_DUPLICATE_LIB_OK=true\n",
      "   KMP_ENABLE_TASK_THROTTLING=true\n",
      "   KMP_FORCE_REDUCTION: value is not defined\n",
      "   KMP_FOREIGN_THREADS_THREADPRIVATE=true\n",
      "   KMP_FORKJOIN_BARRIER='2,2'\n",
      "   KMP_FORKJOIN_BARRIER_PATTERN='hyper,hyper'\n",
      "   KMP_GTID_MODE=3\n",
      "   KMP_HANDLE_SIGNALS=false\n",
      "   KMP_HOT_TEAMS_MAX_LEVEL=1\n",
      "   KMP_HOT_TEAMS_MODE=0\n",
      "   KMP_INIT_AT_FORK=true\n",
      "   KMP_LIBRARY=throughput\n",
      "   KMP_LOCK_KIND=queuing\n",
      "   KMP_MALLOC_POOL_INCR=1M\n",
      "   KMP_NUM_LOCKS_IN_BLOCK=1\n",
      "   KMP_PLAIN_BARRIER='2,2'\n",
      "   KMP_PLAIN_BARRIER_PATTERN='hyper,hyper'\n",
      "   KMP_REDUCTION_BARRIER='1,1'\n",
      "   KMP_REDUCTION_BARRIER_PATTERN='hyper,hyper'\n",
      "   KMP_SCHEDULE='static,balanced;guided,iterative'\n",
      "   KMP_SETTINGS=true\n",
      "   KMP_SPIN_BACKOFF_PARAMS='4096,100'\n",
      "   KMP_STACKOFFSET=64\n",
      "   KMP_STACKPAD=0\n",
      "   KMP_STACKSIZE=8M\n",
      "   KMP_STORAGE_MAP=false\n",
      "   KMP_TASKING=2\n",
      "   KMP_TASKLOOP_MIN_TASKS=0\n",
      "   KMP_TASK_STEALING_CONSTRAINT=1\n",
      "   KMP_TEAMS_THREAD_LIMIT=4\n",
      "   KMP_TOPOLOGY_METHOD=all\n",
      "   KMP_USE_YIELD=1\n",
      "   KMP_VERSION=false\n",
      "   KMP_WARNINGS=false\n",
      "   OMP_AFFINITY_FORMAT='OMP: pid %P tid %i thread %n bound to OS proc set {%A}'\n",
      "   OMP_ALLOCATOR=omp_default_mem_alloc\n",
      "   OMP_CANCELLATION=false\n",
      "   OMP_DEFAULT_DEVICE=0\n",
      "   OMP_DISPLAY_AFFINITY=false\n",
      "   OMP_DISPLAY_ENV=false\n",
      "   OMP_DYNAMIC=false\n",
      "   OMP_MAX_ACTIVE_LEVELS=1\n",
      "   OMP_MAX_TASK_PRIORITY=0\n",
      "   OMP_NESTED: deprecated; max-active-levels-var=1\n",
      "   OMP_NUM_THREADS: value is not defined\n",
      "   OMP_PLACES: value is not defined\n",
      "   OMP_PROC_BIND='intel'\n",
      "   OMP_SCHEDULE='static'\n",
      "   OMP_STACKSIZE=8M\n",
      "   OMP_TARGET_OFFLOAD=DEFAULT\n",
      "   OMP_THREAD_LIMIT=2147483647\n",
      "   OMP_WAIT_POLICY=PASSIVE\n",
      "   KMP_AFFINITY='noverbose,warnings,respect,granularity=fine,compact,1,0'\n",
      "\n",
      "2022-02-04 16:46:25.165378: I tensorflow/core/common_runtime/process_util.cc:146] Creating new thread pool with default inter op setting: 2. Tune using inter_op_parallelism_threads for best performance.\n",
      "2022-02-04 16:46:25.307341: I tensorflow/compiler/mlir/mlir_graph_optimization_pass.cc:185] None of the MLIR Optimization Passes are enabled (registered 2)\n"
     ]
    }
   ],
   "source": [
    "tf.random.set_seed(42)\n",
    "\n",
    "model = Sequential([\n",
    "    Dense(500, activation='relu'),\n",
    "    Dense(100, activation='relu'),\n",
    "    Dense(50, activation='relu'),\n",
    "    Dense(1)\n",
    "])\n",
    "\n",
    "model.compile(\n",
    "    loss=rmse,\n",
    "    optimizer=Adam(),\n",
    "    metrics=[rmse]\n",
    ")\n",
    "\n",
    "history = model.fit(X_train_norm, y_train, epochs=1000, verbose=0)"
   ]
  },
  {
   "cell_type": "code",
   "execution_count": 11,
   "id": "171273c5",
   "metadata": {
    "execution": {
     "iopub.execute_input": "2022-02-04T16:48:00.291160Z",
     "iopub.status.busy": "2022-02-04T16:48:00.290195Z",
     "iopub.status.idle": "2022-02-04T16:48:00.498434Z",
     "shell.execute_reply": "2022-02-04T16:48:00.498910Z",
     "shell.execute_reply.started": "2022-02-04T15:28:26.652430Z"
    },
    "papermill": {
     "duration": 0.224936,
     "end_time": "2022-02-04T16:48:00.499095",
     "exception": false,
     "start_time": "2022-02-04T16:48:00.274159",
     "status": "completed"
    },
    "tags": []
   },
   "outputs": [
    {
     "data": {
      "image/png": "[encoded data removed]",
      "text/plain": [
       "<Figure size 432x288 with 1 Axes>"
      ]
     },
     "metadata": {
      "needs_background": "light"
     },
     "output_type": "display_data"
    }
   ],
   "source": [
    "plt.plot(history.epoch, history.history[\"loss\"], 'g', label='Training loss')\n",
    "plt.title('Training loss')\n",
    "plt.xlabel('Epochs')\n",
    "plt.ylabel('Loss')\n",
    "plt.legend()\n",
    "plt.show()"
   ]
  },
  {
   "cell_type": "code",
   "execution_count": 12,
   "id": "bf189edd",
   "metadata": {
    "execution": {
     "iopub.execute_input": "2022-02-04T16:48:00.530700Z",
     "iopub.status.busy": "2022-02-04T16:48:00.529771Z",
     "iopub.status.idle": "2022-02-04T16:48:00.743510Z",
     "shell.execute_reply": "2022-02-04T16:48:00.744087Z",
     "shell.execute_reply.started": "2022-02-04T15:28:26.852693Z"
    },
    "papermill": {
     "duration": 0.231508,
     "end_time": "2022-02-04T16:48:00.744319",
     "exception": false,
     "start_time": "2022-02-04T16:48:00.512811",
     "status": "completed"
    },
    "tags": []
   },
   "outputs": [],
   "source": [
    "results =model.predict(test_df_norm)"
   ]
  },
  {
   "cell_type": "code",
   "execution_count": 13,
   "id": "37847534",
   "metadata": {
    "execution": {
     "iopub.execute_input": "2022-02-04T16:48:00.779996Z",
     "iopub.status.busy": "2022-02-04T16:48:00.778933Z",
     "iopub.status.idle": "2022-02-04T16:48:00.788605Z",
     "shell.execute_reply": "2022-02-04T16:48:00.789065Z",
     "shell.execute_reply.started": "2022-02-04T15:28:27.027762Z"
    },
    "papermill": {
     "duration": 0.028297,
     "end_time": "2022-02-04T16:48:00.789268",
     "exception": false,
     "start_time": "2022-02-04T16:48:00.760971",
     "status": "completed"
    },
    "tags": []
   },
   "outputs": [],
   "source": [
    "df_results = pd.DataFrame(columns=[\"Id\",\"SalePrice\"])\n",
    "df_results[\"Id\"] = test_df.index\n",
    "df_results[\"SalePrice\"] = results"
   ]
  },
  {
   "cell_type": "code",
   "execution_count": 14,
   "id": "ee9e1cfc",
   "metadata": {
    "execution": {
     "iopub.execute_input": "2022-02-04T16:48:00.821539Z",
     "iopub.status.busy": "2022-02-04T16:48:00.820497Z",
     "iopub.status.idle": "2022-02-04T16:48:00.825568Z",
     "shell.execute_reply": "2022-02-04T16:48:00.826033Z",
     "shell.execute_reply.started": "2022-02-04T15:28:27.038406Z"
    },
    "papermill": {
     "duration": 0.022913,
     "end_time": "2022-02-04T16:48:00.826232",
     "exception": false,
     "start_time": "2022-02-04T16:48:00.803319",
     "status": "completed"
    },
    "tags": []
   },
   "outputs": [],
   "source": [
    "df_results.set_index(\"Id\", inplace=True)"
   ]
  },
  {
   "cell_type": "code",
   "execution_count": 15,
   "id": "b5530164",
   "metadata": {
    "execution": {
     "iopub.execute_input": "2022-02-04T16:48:00.859699Z",
     "iopub.status.busy": "2022-02-04T16:48:00.858680Z",
     "iopub.status.idle": "2022-02-04T16:48:00.863420Z",
     "shell.execute_reply": "2022-02-04T16:48:00.862889Z",
     "shell.execute_reply.started": "2022-02-04T15:28:27.053502Z"
    },
    "papermill": {
     "duration": 0.023218,
     "end_time": "2022-02-04T16:48:00.863581",
     "exception": false,
     "start_time": "2022-02-04T16:48:00.840363",
     "status": "completed"
    },
    "tags": []
   },
   "outputs": [],
   "source": [
    "#df_results.to_csv(\"Submission2.csv\")"
   ]
  },
  {
   "cell_type": "code",
   "execution_count": null,
   "id": "420a2d68",
   "metadata": {
    "papermill": {
     "duration": 0.013968,
     "end_time": "2022-02-04T16:48:00.891677",
     "exception": false,
     "start_time": "2022-02-04T16:48:00.877709",
     "status": "completed"
    },
    "tags": []
   },
   "outputs": [],
   "source": []
  }
 ],
 "metadata": {
  "kernelspec": {
   "display_name": "Python 3",
   "language": "python",
   "name": "python3"
  },
  "language_info": {
   "codemirror_mode": {
    "name": "ipython",
    "version": 3
   },
   "file_extension": ".py",
   "mimetype": "text/x-python",
   "name": "python",
   "nbconvert_exporter": "python",
   "pygments_lexer": "ipython3",
   "version": "3.7.12"
  },
  "papermill": {
   "default_parameters": {},
   "duration": 116.7517,
   "end_time": "2022-02-04T16:48:04.093483",
   "environment_variables": {},
   "exception": null,
   "input_path": "__notebook__.ipynb",
   "output_path": "__notebook__.ipynb",
   "parameters": {},
   "start_time": "2022-02-04T16:46:07.341783",
   "version": "2.3.3"
  }
 },
 "nbformat": 4,
 "nbformat_minor": 5
}
